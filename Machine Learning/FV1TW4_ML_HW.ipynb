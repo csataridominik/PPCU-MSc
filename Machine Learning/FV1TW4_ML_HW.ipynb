{
  "cells": [
    {
      "cell_type": "code",
      "execution_count": 1,
      "metadata": {
        "_cell_guid": "b1076dfc-b9ad-4769-8c92-a6c4dae69d19",
        "_uuid": "8f2839f25d086af736a60e9eeb907d3b93b6e0e5",
        "execution": {
          "iopub.execute_input": "2022-03-24T11:14:52.054314Z",
          "iopub.status.busy": "2022-03-24T11:14:52.053725Z",
          "iopub.status.idle": "2022-03-24T11:14:52.098440Z",
          "shell.execute_reply": "2022-03-24T11:14:52.097607Z",
          "shell.execute_reply.started": "2022-03-24T11:14:52.054278Z"
        },
        "trusted": true,
        "colab": {
          "base_uri": "https://localhost:8080/"
        },
        "id": "x1jq_F2DSjac",
        "outputId": "c3f1b788-20d1-4aed-eef1-0b5d5b3d00f1"
      },
      "outputs": [
        {
          "output_type": "stream",
          "name": "stdout",
          "text": [
            "Using cpu device\n",
            "Downloading http://fashion-mnist.s3-website.eu-central-1.amazonaws.com/train-images-idx3-ubyte.gz\n",
            "Downloading http://fashion-mnist.s3-website.eu-central-1.amazonaws.com/train-images-idx3-ubyte.gz to data/FashionMNIST/raw/train-images-idx3-ubyte.gz\n"
          ]
        },
        {
          "output_type": "stream",
          "name": "stderr",
          "text": [
            "100%|██████████| 26421880/26421880 [00:01<00:00, 16374866.68it/s]\n"
          ]
        },
        {
          "output_type": "stream",
          "name": "stdout",
          "text": [
            "Extracting data/FashionMNIST/raw/train-images-idx3-ubyte.gz to data/FashionMNIST/raw\n",
            "\n",
            "Downloading http://fashion-mnist.s3-website.eu-central-1.amazonaws.com/train-labels-idx1-ubyte.gz\n",
            "Downloading http://fashion-mnist.s3-website.eu-central-1.amazonaws.com/train-labels-idx1-ubyte.gz to data/FashionMNIST/raw/train-labels-idx1-ubyte.gz\n"
          ]
        },
        {
          "output_type": "stream",
          "name": "stderr",
          "text": [
            "100%|██████████| 29515/29515 [00:00<00:00, 321192.26it/s]\n"
          ]
        },
        {
          "output_type": "stream",
          "name": "stdout",
          "text": [
            "Extracting data/FashionMNIST/raw/train-labels-idx1-ubyte.gz to data/FashionMNIST/raw\n",
            "\n",
            "Downloading http://fashion-mnist.s3-website.eu-central-1.amazonaws.com/t10k-images-idx3-ubyte.gz\n",
            "Downloading http://fashion-mnist.s3-website.eu-central-1.amazonaws.com/t10k-images-idx3-ubyte.gz to data/FashionMNIST/raw/t10k-images-idx3-ubyte.gz\n"
          ]
        },
        {
          "output_type": "stream",
          "name": "stderr",
          "text": [
            "100%|██████████| 4422102/4422102 [00:00<00:00, 5517595.52it/s]\n"
          ]
        },
        {
          "output_type": "stream",
          "name": "stdout",
          "text": [
            "Extracting data/FashionMNIST/raw/t10k-images-idx3-ubyte.gz to data/FashionMNIST/raw\n",
            "\n",
            "Downloading http://fashion-mnist.s3-website.eu-central-1.amazonaws.com/t10k-labels-idx1-ubyte.gz\n",
            "Downloading http://fashion-mnist.s3-website.eu-central-1.amazonaws.com/t10k-labels-idx1-ubyte.gz to data/FashionMNIST/raw/t10k-labels-idx1-ubyte.gz\n"
          ]
        },
        {
          "output_type": "stream",
          "name": "stderr",
          "text": [
            "100%|██████████| 5148/5148 [00:00<00:00, 12089740.76it/s]\n"
          ]
        },
        {
          "output_type": "stream",
          "name": "stdout",
          "text": [
            "Extracting data/FashionMNIST/raw/t10k-labels-idx1-ubyte.gz to data/FashionMNIST/raw\n",
            "\n"
          ]
        }
      ],
      "source": [
        "import torch\n",
        "from torch import nn\n",
        "from torch.utils.data import DataLoader\n",
        "from torchvision import datasets\n",
        "from torchvision.transforms import ToTensor, Lambda\n",
        "import matplotlib.pyplot as plt\n",
        "import numpy as np\n",
        "\n",
        "# Get cpu or gpu device for training.\n",
        "device = \"cuda\" if torch.cuda.is_available() else \"cpu\" \n",
        "print(f\"Using {device} device\")\n"
      ]
    },
    {
      "cell_type": "code",
      "source": [
        "\n",
        "training_data = datasets.FashionMNIST(\n",
        "    root=\"data\",\n",
        "    train=True,\n",
        "    download=True,\n",
        "    transform=ToTensor()\n",
        ")\n",
        "\n",
        "training_data, validation_data = torch.utils.data.random_split(training_data, [50000, 10000])\n",
        "training_data, test_data = torch.utils.data.random_split(training_data, [40000, 10000])\n",
        "train_dataloader = DataLoader(training_data, batch_size=64)\n",
        "validation_dataloader = DataLoader(validation_data, batch_size=64)\n",
        "test_dataloader = DataLoader(test_data, batch_size=64)\n"
      ],
      "metadata": {
        "id": "HA4-OZIn2mdS"
      },
      "execution_count": 74,
      "outputs": []
    },
    {
      "cell_type": "code",
      "execution_count": 75,
      "metadata": {
        "execution": {
          "iopub.execute_input": "2022-03-24T11:14:52.224158Z",
          "iopub.status.busy": "2022-03-24T11:14:52.223953Z",
          "iopub.status.idle": "2022-03-24T11:14:52.579272Z",
          "shell.execute_reply": "2022-03-24T11:14:52.578610Z",
          "shell.execute_reply.started": "2022-03-24T11:14:52.224133Z"
        },
        "trusted": true,
        "colab": {
          "base_uri": "https://localhost:8080/",
          "height": 675
        },
        "id": "yPkfb6GvSjak",
        "outputId": "3d606125-6ff8-4a46-ab0f-3bbff8d87006"
      },
      "outputs": [
        {
          "output_type": "display_data",
          "data": {
            "text/plain": [
              "<Figure size 800x800 with 9 Axes>"
            ],
            "image/png": "[encoded data removed]"
          },
          "metadata": {}
        }
      ],
      "source": [
        "labels_map = {\n",
        "    0: \"T-Shirt\",\n",
        "    1: \"Trouser\",\n",
        "    2: \"Pullover\",\n",
        "    3: \"Dress\",\n",
        "    4: \"Coat\",\n",
        "    5: \"Sandal\",\n",
        "    6: \"Shirt\",\n",
        "    7: \"Sneaker\",\n",
        "    8: \"Bag\",\n",
        "    9: \"Ankle Boot\",\n",
        "}\n",
        "figure = plt.figure(figsize=(8, 8))\n",
        "cols, rows = 3, 3\n",
        "for i in range(1, cols * rows + 1):\n",
        "    sample_idx = torch.randint(len(training_data), size=(1,)).item()\n",
        "    img, label = training_data[sample_idx]\n",
        "    figure.add_subplot(rows, cols, i)\n",
        "    plt.title(labels_map[label])\n",
        "    plt.axis(\"off\")\n",
        "    plt.imshow(img.squeeze(), cmap=\"gray\")\n",
        "plt.show()"
      ]
    },
    {
      "cell_type": "code",
      "execution_count": 76,
      "metadata": {
        "execution": {
          "iopub.execute_input": "2022-03-24T11:14:52.581697Z",
          "iopub.status.busy": "2022-03-24T11:14:52.580864Z",
          "iopub.status.idle": "2022-03-24T11:14:52.595968Z",
          "shell.execute_reply": "2022-03-24T11:14:52.595228Z",
          "shell.execute_reply.started": "2022-03-24T11:14:52.581657Z"
        },
        "trusted": true,
        "colab": {
          "base_uri": "https://localhost:8080/"
        },
        "id": "JSa0KbRGSjam",
        "outputId": "7fa7caf0-8779-4ead-d643-72d8fa2a21f3"
      },
      "outputs": [
        {
          "output_type": "stream",
          "name": "stdout",
          "text": [
            "NeuralNetwork(\n",
            "  (conv_layer): Conv2d(784, 16, kernel_size=(5, 5), stride=(1, 1))\n",
            "  (flatten): Flatten(start_dim=1, end_dim=-1)\n",
            "  (linear_relu_stack): Sequential(\n",
            "    (0): Linear(in_features=784, out_features=512, bias=True)\n",
            "    (1): ReLU()\n",
            "    (2): Linear(in_features=512, out_features=300, bias=True)\n",
            "    (3): ReLU()\n",
            "    (4): Linear(in_features=300, out_features=512, bias=True)\n",
            "    (5): ReLU()\n",
            "    (6): Linear(in_features=512, out_features=10, bias=True)\n",
            "  )\n",
            ")\n"
          ]
        }
      ],
      "source": [
        "class NeuralNetwork(nn.Module):\n",
        "    def __init__(self,n_neurons=512,input_dim=28*28,output_dim=10):\n",
        "        super(NeuralNetwork, self).__init__()\n",
        "\n",
        "        self.conv_layer = nn.Conv2d(input_dim, 16, kernel_size=5, stride=1)\n",
        "\n",
        "        self.flatten = nn.Flatten()\n",
        "        self.linear_relu_stack = nn.Sequential(\n",
        "            nn.Linear(input_dim, n_neurons),\n",
        "            nn.ReLU(),\n",
        "            nn.Linear(n_neurons, 300),\n",
        "            nn.ReLU(),\n",
        "            nn.Linear(300, n_neurons),\n",
        "            nn.ReLU(),\n",
        "            nn.Linear(n_neurons, output_dim),\n",
        "            \n",
        "        )\n",
        "        \n",
        "      \n",
        "\n",
        "    def forward(self, x):\n",
        "        x = self.flatten(x)\n",
        "        x = self.linear_relu_stack(x)\n",
        "        #output=self.softmax(x)  Softmax is not needed only because pytorch does this with cross entropy loss automatically\n",
        "        return x\n",
        "\n",
        "model = NeuralNetwork(n_neurons=512)\n",
        "print(model)"
      ]
    },
    {
      "cell_type": "code",
      "execution_count": 77,
      "metadata": {
        "execution": {
          "iopub.execute_input": "2022-03-24T11:14:52.597430Z",
          "iopub.status.busy": "2022-03-24T11:14:52.597202Z",
          "iopub.status.idle": "2022-03-24T11:14:52.602067Z",
          "shell.execute_reply": "2022-03-24T11:14:52.601389Z",
          "shell.execute_reply.started": "2022-03-24T11:14:52.597400Z"
        },
        "trusted": true,
        "id": "oxMMzB8uSjan"
      },
      "outputs": [],
      "source": [
        "learning_rate = 1e-3\n",
        "batch_size = 64\n",
        "epochs = 5\n",
        "# Initialize the loss function\n",
        "loss_fn = nn.CrossEntropyLoss()\n",
        "optimizer = torch.optim.SGD(model.parameters(), lr=learning_rate)"
      ]
    },
    {
      "cell_type": "code",
      "execution_count": 78,
      "metadata": {
        "execution": {
          "iopub.execute_input": "2022-03-24T11:14:52.793723Z",
          "iopub.status.busy": "2022-03-24T11:14:52.793230Z",
          "iopub.status.idle": "2022-03-24T11:14:52.810304Z",
          "shell.execute_reply": "2022-03-24T11:14:52.809511Z",
          "shell.execute_reply.started": "2022-03-24T11:14:52.793679Z"
        },
        "trusted": true,
        "id": "w9rAV1K0Sjao"
      },
      "outputs": [],
      "source": [
        "def fit_one_epoch(dataloader, model, loss_fn, optimizer):\n",
        "    size = len(dataloader.dataset)\n",
        "    for batch, (X, y) in enumerate(dataloader):\n",
        "        # Compute prediction and loss\n",
        "        pred = model(X)\n",
        "        loss = loss_fn(pred, y)\n",
        "\n",
        "        # Backpropagation\n",
        "        optimizer.zero_grad()\n",
        "        loss.backward()\n",
        "        optimizer.step()\n",
        "\n",
        "        if batch % 100 == 0:\n",
        "            loss, current = loss.item(), batch * len(X)\n",
        "            print(f\"loss: {loss}  [{current}/{size}]\")\n",
        "\n",
        "\n",
        "def predict_dataset(dataloader, model, loss_fn):\n",
        "    size = len(dataloader.dataset)\n",
        "    num_batches = len(dataloader)\n",
        "    test_loss, correct = 0, 0\n",
        "\n",
        "    with torch.no_grad():\n",
        "        for X, y in dataloader:\n",
        "            pred = model(X)\n",
        "            test_loss += loss_fn(pred, y).item()\n",
        "            correct += (pred.argmax(1) == y).type(torch.float).sum().item()\n",
        "\n",
        "    test_loss /= num_batches\n",
        "    correct /= size\n",
        "    print(f\"Error: \\n Accuracy: {(100*correct)}%, Avg loss: {test_loss} \\n\")\n",
        "def predict(data,model,apply_softmax=True):\n",
        "    labels=data[1]\n",
        "    label=labels[0] #Take first element of batch\n",
        "    data=data[0]  \n",
        "    data=data[0,:,:,:] #Take first element of batch\n",
        "    print(f\"Size of one sample is {data.size()}\") #First dimension is 1 because image is black & white. Would be 3 for RGB.\n",
        "    pred = model(data)\n",
        "    if apply_softmax:\n",
        "        softmax=nn.Softmax()\n",
        "        pred=softmax(pred)\n",
        "    pred=pred.detach().numpy()\n",
        "    pred=pred[0]\n",
        "    print(f\"Predicted label probabilities for first image: {pred*100}\")\n",
        "    print(f\"True label for first image is {label.numpy()}\")"
      ]
    },
    {
      "cell_type": "code",
      "execution_count": 79,
      "metadata": {
        "execution": {
          "iopub.execute_input": "2022-03-24T11:14:53.077127Z",
          "iopub.status.busy": "2022-03-24T11:14:53.076748Z",
          "iopub.status.idle": "2022-03-24T11:15:22.473891Z",
          "shell.execute_reply": "2022-03-24T11:15:22.473051Z",
          "shell.execute_reply.started": "2022-03-24T11:14:53.077086Z"
        },
        "trusted": true,
        "colab": {
          "base_uri": "https://localhost:8080/"
        },
        "id": "3JPrdCZcSjaq",
        "outputId": "086adad2-93bc-437c-e1bd-c9aa819ed238"
      },
      "outputs": [
        {
          "output_type": "stream",
          "name": "stdout",
          "text": [
            "Epoch 1\n",
            "-------------------------------\n",
            "loss: 2.301104784011841  [0/40000]\n",
            "loss: 2.301204204559326  [6400/40000]\n",
            "loss: 2.2956013679504395  [12800/40000]\n",
            "loss: 2.294001579284668  [19200/40000]\n",
            "loss: 2.2880821228027344  [25600/40000]\n",
            "loss: 2.2872354984283447  [32000/40000]\n",
            "loss: 2.281344413757324  [38400/40000]\n",
            "Validation results:\n",
            "Error: \n",
            " Accuracy: 14.04%, Avg loss: 2.280312179759809 \n",
            "\n",
            "Epoch 2\n",
            "-------------------------------\n",
            "loss: 2.283121347427368  [0/40000]\n",
            "loss: 2.2788479328155518  [6400/40000]\n",
            "loss: 2.2724802494049072  [12800/40000]\n",
            "loss: 2.270655393600464  [19200/40000]\n",
            "loss: 2.2694168090820312  [25600/40000]\n",
            "loss: 2.2620770931243896  [32000/40000]\n",
            "loss: 2.2595036029815674  [38400/40000]\n",
            "Validation results:\n",
            "Error: \n",
            " Accuracy: 22.18%, Avg loss: 2.2542013195669575 \n",
            "\n",
            "Epoch 3\n",
            "-------------------------------\n",
            "loss: 2.2592544555664062  [0/40000]\n",
            "loss: 2.2489919662475586  [6400/40000]\n",
            "loss: 2.2403011322021484  [12800/40000]\n",
            "loss: 2.2383103370666504  [19200/40000]\n",
            "loss: 2.241950273513794  [25600/40000]\n",
            "loss: 2.224634885787964  [32000/40000]\n",
            "loss: 2.225214719772339  [38400/40000]\n",
            "Validation results:\n",
            "Error: \n",
            " Accuracy: 24.67%, Avg loss: 2.21440071816657 \n",
            "\n",
            "Epoch 4\n",
            "-------------------------------\n",
            "loss: 2.2227165699005127  [0/40000]\n",
            "loss: 2.2040820121765137  [6400/40000]\n",
            "loss: 2.190361976623535  [12800/40000]\n",
            "loss: 2.1887636184692383  [19200/40000]\n",
            "loss: 2.1973178386688232  [25600/40000]\n",
            "loss: 2.1648929119110107  [32000/40000]\n",
            "loss: 2.169501304626465  [38400/40000]\n",
            "Validation results:\n",
            "Error: \n",
            " Accuracy: 29.49%, Avg loss: 2.151295224572443 \n",
            "\n",
            "Epoch 5\n",
            "-------------------------------\n",
            "loss: 2.163442850112915  [0/40000]\n",
            "loss: 2.13621187210083  [6400/40000]\n",
            "loss: 2.1126418113708496  [12800/40000]\n",
            "loss: 2.113201856613159  [19200/40000]\n",
            "loss: 2.12296199798584  [25600/40000]\n",
            "loss: 2.0693178176879883  [32000/40000]\n",
            "loss: 2.080605983734131  [38400/40000]\n",
            "Validation results:\n",
            "Error: \n",
            " Accuracy: 36.83%, Avg loss: 2.0523710524200633 \n",
            "\n",
            "Test results:\n",
            "Size of one sample is torch.Size([1, 28, 28])\n",
            "Predicted label probabilities for first image: [ 9.491668   9.418133   9.539171   9.5644245  8.856682  10.795045\n",
            "  9.438589  11.488265  10.730235  10.677778 ]\n",
            "True label for first image is 5\n"
          ]
        },
        {
          "output_type": "stream",
          "name": "stderr",
          "text": [
            "<ipython-input-78-df27bb7a993a>:41: UserWarning: Implicit dimension choice for softmax has been deprecated. Change the call to include dim=X as an argument.\n",
            "  pred=softmax(pred)\n"
          ]
        },
        {
          "output_type": "stream",
          "name": "stdout",
          "text": [
            "Error: \n",
            " Accuracy: 36.8%, Avg loss: 2.0512250274609607 \n",
            "\n"
          ]
        }
      ],
      "source": [
        "\n",
        "for t in range(epochs):\n",
        "    print(f\"Epoch {t+1}\\n-------------------------------\")\n",
        "    fit_one_epoch(train_dataloader, model, loss_fn, optimizer)\n",
        "    print('Validation results:')\n",
        "    predict_dataset(validation_dataloader, model, loss_fn)\n",
        "print('Test results:')\n",
        "predict(next(iter(test_dataloader)),model,loss_fn)\n",
        "predict_dataset(test_dataloader, model, loss_fn)"
      ]
    },
    {
      "cell_type": "markdown",
      "source": [
        "**Change, add or remove some layers in the model and observe training and test errors**\n",
        "\n",
        "*   Basic: Error: \n",
        " Accuracy: 61.58%, Avg loss: 1.397617993840746 \n",
        "*   With softmax(): If its the last layer, with softmax(dim=1), it wouldnt help, as Error: \n",
        " Accuracy: 25.180000000000003%, Avg loss: 2.2974289602534785 \n",
        "*   Simple adding sigmoid to the middle wouldnt help either as: Error: \n",
        " Accuracy: 23.57%, Avg loss: 2.2867543469568727 \n",
        "\n"
      ],
      "metadata": {
        "id": "J2pV7rsiT9lV"
      }
    },
    {
      "cell_type": "markdown",
      "source": [
        "(flatten): Flatten(start_dim=1, end_dim=-1)\n",
        "  (linear_relu_stack): Sequential(\n",
        "    (0): Linear(in_features=784, out_features=512, bias=True)\n",
        "    (1): ReLU()\n",
        "    (2): Linear(in_features=512, out_features=512, bias=True)\n",
        "    (3): Sigmoid()\n",
        "    (4): Linear(in_features=512, out_features=512, bias=True)\n",
        "    (5): ReLU()\n",
        "    (6): Linear(in_features=512, out_features=10, bias=True)\n",
        "  )\n",
        ")"
      ],
      "metadata": {
        "id": "N5MxNUkqaZwH"
      }
    },
    {
      "cell_type": "markdown",
      "source": [
        "With this\n",
        "\n",
        "\n",
        "\n",
        "```\n",
        "NeuralNetwork(\n",
        "  (flatten): Flatten(start_dim=1, end_dim=-1)\n",
        "  (linear_relu_stack): Sequential(\n",
        "    (0): Linear(in_features=784, out_features=512, bias=True)\n",
        "    (1): ReLU()\n",
        "    (2): Linear(in_features=512, out_features=512, bias=True)\n",
        "    (3): ReLU()\n",
        "    (4): Linear(in_features=512, out_features=512, bias=True)\n",
        "    (5): ReLU()\n",
        "    (6): Linear(in_features=512, out_features=512, bias=True)\n",
        "    (7): ReLU()\n",
        "    (8): Linear(in_features=512, out_features=10, bias=True)\n",
        "  )\n",
        ")\n",
        "```\n",
        "\n"
      ],
      "metadata": {
        "id": "L6L1-cn14X3S"
      }
    },
    {
      "cell_type": "code",
      "source": [],
      "metadata": {
        "id": "R74yF2slT8pT"
      },
      "execution_count": null,
      "outputs": []
    },
    {
      "cell_type": "markdown",
      "source": [
        "The follwoing was the result:\n",
        "\n",
        "\n",
        "\n",
        "```\n",
        "Validation results:\n",
        "Error: \n",
        " Accuracy: 34.870000000000005%, Avg loss: 2.282150926104017 \n",
        "\n",
        "Test results:\n",
        "Size of one sample is torch.Size([1, 28, 28])\n",
        "Predicted label probabilities for first image: [10.403863  9.585341 10.381373  9.653863 10.669979  9.57655  10.052623\n",
        "  9.856071 10.185421  9.634916]\n",
        "True label for first image is 2\n",
        "<ipython-input-19-df27bb7a993a>:41: UserWarning: Implicit dimension choice for softmax has been deprecated. Change the call to include dim=X as an argument.\n",
        "  pred=softmax(pred)\n",
        "Error: \n",
        " Accuracy: 35.199999999999996%, Avg loss: 2.2815740032560505 \n",
        "```\n",
        "\n"
      ],
      "metadata": {
        "id": "oFvlDQcK4aqs"
      }
    },
    {
      "cell_type": "code",
      "source": [],
      "metadata": {
        "id": "jlBAfiRy4ePs"
      },
      "execution_count": null,
      "outputs": []
    },
    {
      "cell_type": "markdown",
      "source": [
        "**With droputs:**\n",
        "\n",
        "\n",
        "\n",
        "```\n",
        "NeuralNetwork(\n",
        "  (flatten): Flatten(start_dim=1, end_dim=-1)\n",
        "  (linear_relu_stack): Sequential(\n",
        "    (0): Linear(in_features=784, out_features=512, bias=True)\n",
        "    (1): ReLU()\n",
        "    (2): Dropout(p=0.5, inplace=False)\n",
        "    (3): Linear(in_features=512, out_features=512, bias=True)\n",
        "    (4): ReLU()\n",
        "    (5): Dropout(p=0.5, inplace=False)\n",
        "    (6): Linear(in_features=512, out_features=10, bias=True)\n",
        "  )\n",
        ")\n",
        "\n",
        "\n",
        "\n",
        "Validation results:\n",
        "Error: \n",
        " Accuracy: 63.89%, Avg loss: 0.9880123009347612 \n",
        "\n",
        "Test results:\n",
        "Size of one sample is torch.Size([1, 28, 28])\n",
        "Predicted label probabilities for first image: [ 6.365937    7.1140847  12.027325   18.21258    35.39263     0.3250821\n",
        " 15.869234    0.10041037  4.528075    0.06464364]\n",
        "True label for first image is 0\n",
        "<ipython-input-26-df27bb7a993a>:41: UserWarning: Implicit dimension choice for softmax has been deprecated. Change the call to include dim=X as an argument.\n",
        "  pred=softmax(pred)\n",
        "Error: \n",
        " Accuracy: 62.8%, Avg loss: 0.9935937110026172\n",
        "```\n",
        "With 8 epocs. the Avg loss improved, the acc couldnt.\n",
        "\n",
        "\n"
      ],
      "metadata": {
        "id": "EdrME6L27L66"
      }
    },
    {
      "cell_type": "markdown",
      "source": [
        "With the commented softmax implemented, we could imporve the results:\n",
        "\n",
        "\n",
        "```\n",
        "NeuralNetwork(\n",
        "  (flatten): Flatten(start_dim=1, end_dim=-1)\n",
        "  (linear_relu_stack): Sequential(\n",
        "    (0): Linear(in_features=784, out_features=512, bias=True)\n",
        "    (1): ReLU()\n",
        "    (2): Linear(in_features=512, out_features=512, bias=True)\n",
        "    (3): ReLU()\n",
        "    (4): Linear(in_features=512, out_features=10, bias=True)\n",
        "  )\n",
        "  (softmax): Softmax(dim=None)\n",
        ")\n",
        "\n",
        "Validation results:\n",
        "Error: \n",
        " Accuracy: 63.89%, Avg loss: 0.9880123009347612 \n",
        "\n",
        "Test results:\n",
        "Size of one sample is torch.Size([1, 28, 28])\n",
        "Predicted label probabilities for first image: [ 6.365937    7.1140847  12.027325   18.21258    35.39263     0.3250821\n",
        " 15.869234    0.10041037  4.528075    0.06464364]\n",
        "True label for first image is 0\n",
        "<ipython-input-26-df27bb7a993a>:41: UserWarning: Implicit dimension choice for softmax has been deprecated. Change the call to include dim=X as an argument.\n",
        "  pred=softmax(pred)\n",
        "Error: \n",
        " Accuracy: 62.8%, Avg loss: 0.9935937110026172\n",
        "```\n",
        "still 8 epocs was implied.\n",
        "\n"
      ],
      "metadata": {
        "id": "o-akigyJ8yRH"
      }
    },
    {
      "cell_type": "markdown",
      "source": [
        "**Best results so far:**\n",
        "\n",
        "\n",
        "\n",
        "```\n",
        "NeuralNetwork(\n",
        "  (flatten): Flatten(start_dim=1, end_dim=-1)\n",
        "  (linear_relu_stack): Sequential(\n",
        "    (0): Linear(in_features=784, out_features=512, bias=True)\n",
        "    (1): ReLU()\n",
        "    (2): Linear(in_features=512, out_features=512, bias=True)\n",
        "    (3): ReLU()\n",
        "    (4): Linear(in_features=512, out_features=10, bias=True)\n",
        "  )\n",
        "  (layer2): Sequential(\n",
        "    (0): Conv2d(32, 64, kernel_size=(3, 3), stride=(1, 1))\n",
        "    (1): BatchNorm2d(64, eps=1e-05, momentum=0.1, affine=True, track_running_stats=True)\n",
        "    (2): ReLU()\n",
        "    (3): MaxPool2d(kernel_size=2, stride=2, padding=0, dilation=1, ceil_mode=False)\n",
        "  )\n",
        ")\n",
        "\n",
        "alidation results:\n",
        "Error: \n",
        " Accuracy: 63.160000000000004%, Avg loss: 1.4379500735337567 \n",
        "\n",
        "Test results:\n",
        "Size of one sample is torch.Size([1, 28, 28])\n",
        "Predicted label probabilities for first image: [16.194872  29.63511    7.3501706 21.523657   8.702003   1.8082654\n",
        "  9.431145   1.071187   2.7174044  1.5661845]\n",
        "True label for first image is 1\n",
        "<ipython-input-38-df27bb7a993a>:41: UserWarning: Implicit dimension choice for softmax has been deprecated. Change the call to include dim=X as an argument.\n",
        "  pred=softmax(pred)\n",
        "Error: \n",
        " Accuracy: 63.22%, Avg loss: 1.441384177299062 \n",
        "```\n",
        "\n",
        "\n",
        "\n"
      ],
      "metadata": {
        "id": "vtZS97pq9mWB"
      }
    },
    {
      "cell_type": "markdown",
      "source": [
        "**I've tried a convolution layer, which gave the sam results as seem before**\n",
        "\n",
        "\n",
        "```\n",
        "Validation results:\n",
        "Error: \n",
        " Accuracy: 61.77%, Avg loss: 1.4219641586777512 \n",
        "\n",
        "Test results:\n",
        "Size of one sample is torch.Size([1, 28, 28])\n",
        "Predicted label probabilities for first image: [ 6.159637   4.9429483  9.284687   6.256746   9.486445  11.006233\n",
        "  8.43542   11.334328  15.685121  17.408436 ]\n",
        "True label for first image is 9\n",
        "<ipython-input-59-df27bb7a993a>:41: UserWarning: Implicit dimension choice for softmax has been deprecated. Change the call to include dim=X as an argument.\n",
        "  pred=softmax(pred)\n",
        "Error: \n",
        " Accuracy: 61.92999999999999%, Avg loss: 1.418160141653316 \n",
        "\n",
        " with the layers being:\n",
        "\n",
        " NeuralNetwork(\n",
        "  (conv_layer): Conv2d(784, 16, kernel_size=(5, 5), stride=(1, 1))\n",
        "  (flatten): Flatten(start_dim=1, end_dim=-1)\n",
        "  (linear_relu_stack): Sequential(\n",
        "    (0): Linear(in_features=784, out_features=512, bias=True)\n",
        "    (1): ReLU()\n",
        "    (2): Linear(in_features=512, out_features=512, bias=True)\n",
        "    (3): ReLU()\n",
        "    (4): Linear(in_features=512, out_features=10, bias=True)\n",
        "  )\n",
        ")\n",
        "```\n",
        "\n"
      ],
      "metadata": {
        "id": "uoo8iW-8AQyv"
      }
    },
    {
      "cell_type": "markdown",
      "source": [
        "**Peek, with removing a layer, from initial model, and adding a plus convolution layer, 67%**\n",
        "\n",
        "```\n",
        "Validation results:\n",
        "Error: \n",
        " Accuracy: 67.46%, Avg loss: 1.0709500719027913 \n",
        "\n",
        "Test results:\n",
        "Size of one sample is torch.Size([1, 28, 28])\n",
        "Predicted label probabilities for first image: [ 7.241548   3.1351824 23.72568    6.5804443 20.88199    4.870869\n",
        " 15.863623   2.9813309 11.074748   3.6445801]\n",
        "True label for first image is 2\n",
        "<ipython-input-65-df27bb7a993a>:41: UserWarning: Implicit dimension choice for softmax has been deprecated. Change the call to include dim=X as an argument.\n",
        "  pred=softmax(pred)\n",
        "Error: \n",
        " Accuracy: 67.49000000000001%, Avg loss: 1.078503315615806 \n",
        "\n",
        "\n",
        " NeuralNetwork(\n",
        "  (conv_layer): Conv2d(784, 16, kernel_size=(5, 5), stride=(1, 1))\n",
        "  (flatten): Flatten(start_dim=1, end_dim=-1)\n",
        "  (linear_relu_stack): Sequential(\n",
        "    (0): Linear(in_features=784, out_features=512, bias=True)\n",
        "    (1): ReLU()\n",
        "    (2): Linear(in_features=512, out_features=10, bias=True)\n",
        "  )\n",
        ")\n",
        "```\n",
        "\n"
      ],
      "metadata": {
        "id": "7VPsp8DMBpDb"
      }
    },
    {
      "cell_type": "markdown",
      "source": [
        "**Other methods I've tried:**\n",
        "\n",
        "\n",
        "1.   nn.Sigmoid() , worsen the cases in this context\n",
        "2.   channging the parameters of nn.Linear(), instead of n_neurons, to a given constants smaller than that. Did not help, worsen msot cases.\n",
        "\n"
      ],
      "metadata": {
        "id": "Y9Af3UgADndW"
      }
    },
    {
      "cell_type": "code",
      "source": [],
      "metadata": {
        "id": "8KN_7Ake7mzE"
      },
      "execution_count": null,
      "outputs": []
    }
  ],
  "metadata": {
    "kernelspec": {
      "display_name": "Python 3",
      "language": "python",
      "name": "python3"
    },
    "language_info": {
      "codemirror_mode": {
        "name": "ipython",
        "version": 3
      },
      "file_extension": ".py",
      "mimetype": "text/x-python",
      "name": "python",
      "nbconvert_exporter": "python",
      "pygments_lexer": "ipython3",
      "version": "3.7.12"
    },
    "colab": {
      "provenance": []
    }
  },
  "nbformat": 4,
  "nbformat_minor": 0
}