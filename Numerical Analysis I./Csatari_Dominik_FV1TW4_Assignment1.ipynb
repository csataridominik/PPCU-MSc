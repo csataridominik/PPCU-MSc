{
 "cells": [
  {
   "cell_type": "code",
   "execution_count": 13,
   "metadata": {},
   "outputs": [],
   "source": [
    "from sympy import *\n",
    "import numpy as np\n",
    "import matplotlib.pyplot as plt\n"
   ]
  },
  {
   "cell_type": "markdown",
   "metadata": {},
   "source": [
    "All the functions that I've used:"
   ]
  },
  {
   "cell_type": "code",
   "execution_count": 27,
   "metadata": {},
   "outputs": [],
   "source": [
    "#f(x) Function for the first 2 exercises\n",
    "class poly:\n",
    "    def __init__(self) -> None:\n",
    "        pass\n",
    "\n",
    "    def f(x):\n",
    "        return x**3+2*x**2+10*x-20\n",
    "    def f_d(x):\n",
    "        return 3*x**2+4*x+10 "
   ]
  },
  {
   "cell_type": "code",
   "execution_count": 28,
   "metadata": {},
   "outputs": [],
   "source": [
    "#g(x) Function for Exercise 4\n",
    "class poly2:\n",
    "    def __init__(self) -> None:\n",
    "        pass\n",
    "\n",
    "    def g(x):\n",
    "        return 20/(x**2+2*x+10)\n",
    "    def g_d(x):\n",
    "        return -40*(x+1)/(x**2+2*x+10)**2\n",
    "    def g_d_d(x):\n",
    "        return 120*(x**2+2*x-2)/(x**2+2*x+10)**3"
   ]
  },
  {
   "cell_type": "code",
   "execution_count": 31,
   "metadata": {},
   "outputs": [],
   "source": [
    "#Tanh(x) function\n",
    "\n",
    "class Tanh:\n",
    "    def f(x):\n",
    "        return np.tanh(x)\n",
    "    def f_d(x):\n",
    "        tanh = np.tanh(x)\n",
    "        return 1-tanh**2"
   ]
  },
  {
   "cell_type": "markdown",
   "metadata": {},
   "source": [
    "Exercise 1 and 2"
   ]
  },
  {
   "cell_type": "markdown",
   "metadata": {},
   "source": [
    "2a)\n",
    "\n",
    "There exists a solution as:\n",
    "\n",
    "f(1) = -7\n",
    "\n",
    "f(2) = 16\n",
    "\n",
    "f(1) * f(2) = -112\n",
    "\n",
    "as the function is continuous, there must exist a f(#) = 0, on the interval [1,2].\n",
    "\n",
    "We know, that this is the only one, as the function is a polynom, which is strictly monotonic. This can be determined by ploting it."
   ]
  },
  {
   "cell_type": "code",
   "execution_count": 40,
   "metadata": {},
   "outputs": [
    {
     "name": "stdout",
     "output_type": "stream",
     "text": [
      "f(1):\n",
      "-7\n",
      "f(2):\n",
      "16\n",
      "f(1)* f(2):\n",
      "-112\n"
     ]
    }
   ],
   "source": [
    "f = poly\n",
    "print(\"f(1):\")\n",
    "print(f.f(1))\n",
    "print(\"f(2):\")\n",
    "print(f.f(2)) \n",
    "print(\"f(1)* f(2):\")\n",
    "print(f.f(1) * f.f(2))"
   ]
  },
  {
   "cell_type": "code",
   "execution_count": 41,
   "metadata": {},
   "outputs": [
    {
     "data": {
      "image/png": "[encoded data removed]",
      "text/plain": [
       "<Figure size 800x600 with 1 Axes>"
      ]
     },
     "metadata": {},
     "output_type": "display_data"
    }
   ],
   "source": [
    "def plot_function():\n",
    "\n",
    "    x = np.linspace(-5, 5, 400) \n",
    "\n",
    "    y = x**3 + 2*x**2 + 10*x - 20\n",
    "\n",
    "    plt.figure(figsize=(8, 6))\n",
    "    plt.plot(x, y, label='f(x)', color='b')\n",
    "    plt.xlabel('x')\n",
    "    plt.ylabel('f(x)')\n",
    "    \n",
    "    plt.grid(True)\n",
    "    plt.legend()\n",
    "    \n",
    "    plt.show()\n",
    "\n",
    "plot_function()\n"
   ]
  },
  {
   "cell_type": "markdown",
   "metadata": {},
   "source": [
    "Bisection Method:"
   ]
  },
  {
   "cell_type": "code",
   "execution_count": 33,
   "metadata": {},
   "outputs": [],
   "source": [
    "def Bisection_Method(func,lsp,rsp,precision,iter_):\n",
    "    #This is where you generate ck\n",
    "    middle = (lsp+rsp)/2\n",
    "    \n",
    "    # if both value are positive or both negative, there is no solution with this method on this interval.\n",
    "    if func(rsp)*func(lsp) > 0:\n",
    "        print(\"There is no solution for f(x) = 0 with bisection method.\")\n",
    "        return\n",
    "    \n",
    "    #return    \n",
    "    if func(middle)<=precision and func(middle) >= -precision:\n",
    "        return middle, iter_\n",
    "    \n",
    "    #Decide where to go for next interval\n",
    "    if func(rsp)*func(middle) < 0:\n",
    "        return Bisection_Method(func,middle,rsp,precision,iter_+1)\n",
    "    elif func(rsp)*func(middle) > 0:\n",
    "        return Bisection_Method(func,lsp,middle,precision,iter_+1)"
   ]
  },
  {
   "cell_type": "code",
   "execution_count": 39,
   "metadata": {},
   "outputs": [
    {
     "name": "stdout",
     "output_type": "stream",
     "text": [
      "(1.368804931640625, 14)\n"
     ]
    }
   ],
   "source": [
    "#Test:\n",
    "x0 = 1\n",
    "x1 = 2\n",
    "func = poly\n",
    "\n",
    "if func.f(x0)*func.f(x1) >= 0:\n",
    "    print(\"No convergence to zero between x0 and x1.\")\n",
    "else:\n",
    "    temp = Bisection_Method(func.f,x0,x1,0.0001,0)\n",
    "    print(temp)"
   ]
  },
  {
   "cell_type": "markdown",
   "metadata": {},
   "source": [
    "Newton's Method:"
   ]
  },
  {
   "cell_type": "code",
   "execution_count": 35,
   "metadata": {},
   "outputs": [],
   "source": [
    "def Newtons_Method(func,dev_func,x,precision,iter):\n",
    "    \n",
    "    #With Newtons function we dont have a soltuion, if the derivative of our function is zero, so we signal with an error message and contiune with Bisection.\n",
    "    if dev_func(x) == 0:\n",
    "        print(\"Continuing with BisectionMethod as 'f' derivative was 0.\")\n",
    "        lsp = x\n",
    "        rsp = x\n",
    "        while true:\n",
    "            lsp -=1\n",
    "            rsp +=1 \n",
    "\n",
    "            if func(rsp)*func(lsp) <= 0:\n",
    "                return Bisection_Method(func,lsp,rsp,precision,iter)\n",
    "    \n",
    "    #This is where we change xk+1 for the next iteration\n",
    "    x_next = x - func(x)/dev_func(x)\n",
    "\n",
    "    #if we are in the bounderies of precision, we return with the calculated value, else iter again\n",
    "    if func(x_next) <= precision and func(x_next) >= -precision:\n",
    "        return x_next, iter\n",
    "    else:\n",
    "        \n",
    "        return Newtons_Method(func,dev_func,x_next,precision,iter+1)\n",
    "    \n"
   ]
  },
  {
   "cell_type": "code",
   "execution_count": 36,
   "metadata": {},
   "outputs": [
    {
     "data": {
      "text/plain": [
       "(1.3688081886175318, 2)"
      ]
     },
     "execution_count": 36,
     "metadata": {},
     "output_type": "execute_result"
    }
   ],
   "source": [
    "x0 = 1\n",
    "func = poly\n",
    "temp = Newtons_Method(func.f,func.f_d,x0,0.0001,0)\n",
    "temp\n"
   ]
  },
  {
   "cell_type": "markdown",
   "metadata": {},
   "source": [
    "Secant Method:"
   ]
  },
  {
   "cell_type": "code",
   "execution_count": 50,
   "metadata": {},
   "outputs": [],
   "source": [
    "def Secant_Method(func,x0,x1,precision,iter):\n",
    "    \n",
    "    #if the divisor is zero, we try to solve with Bisection Method.\n",
    "    if func(x1) == func(x0):\n",
    "        print(\"Continuing with Bisection Method as 'f' derivative was 0.\")\n",
    "        lsp = x0\n",
    "        rsp = x1\n",
    "        while true:\n",
    "            lsp -=1\n",
    "            rsp +=1 \n",
    "\n",
    "            if func(rsp)*func(lsp) <= 0:\n",
    "                return Bisection_Method(func,lsp,rsp,precision,iter)\n",
    "            \n",
    "    #This is where we change xk+1 for the next iteration\n",
    "    x_next = x1 - func(x1)*(x1-x0)/(func(x1)-func(x0))\n",
    "\n",
    "\n",
    "    if func(x_next) <= precision and func(x_next) >= -precision:\n",
    "        return x_next, iter\n",
    "    else:\n",
    "        return Secant_Method(func,x1,x_next,precision,iter+1)"
   ]
  },
  {
   "cell_type": "code",
   "execution_count": 51,
   "metadata": {},
   "outputs": [
    {
     "data": {
      "text/plain": [
       "(1.3688081065885498, 4)"
      ]
     },
     "execution_count": 51,
     "metadata": {},
     "output_type": "execute_result"
    }
   ],
   "source": [
    "x0 = 0\n",
    "x1 = 1\n",
    "\n",
    "func = poly\n",
    "temp = Secant_Method(func.f,x0,x1,0.0001,0)\n",
    "temp\n"
   ]
  },
  {
   "cell_type": "markdown",
   "metadata": {},
   "source": [
    "Exercise 3"
   ]
  },
  {
   "cell_type": "markdown",
   "metadata": {},
   "source": [
    "For the a) part we have to start from x0= -5. This is tricky, because in one of the iteration the derivative of the function will be zero.\n",
    "I dealt with in a way, if it happens, I send the function to solve it with Bisection."
   ]
  },
  {
   "cell_type": "code",
   "execution_count": 52,
   "metadata": {},
   "outputs": [
    {
     "name": "stdout",
     "output_type": "stream",
     "text": [
      "Continuing with BisectionMethod as 'f' derivative was 0.\n",
      "(-3.125830880890135e-05, 26)\n"
     ]
    }
   ],
   "source": [
    "func = Tanh\n",
    "x0 =-5\n",
    "precision = 0.0001\n",
    "\n",
    "temp = Newtons_Method(func.f,func.f_d,x0,precision,0)\n",
    "print(temp)"
   ]
  },
  {
   "cell_type": "markdown",
   "metadata": {},
   "source": [
    "3 b) Here the divisor was zero, so I tried to solve with Bisection, if Secant wasnt capeble of it."
   ]
  },
  {
   "cell_type": "code",
   "execution_count": 53,
   "metadata": {},
   "outputs": [
    {
     "name": "stdout",
     "output_type": "stream",
     "text": [
      "Continuing with Bisection Method as 'f' derivative was 0.\n",
      "(5.4053779901589306e-05, 24)\n"
     ]
    }
   ],
   "source": [
    "#Secant Method\n",
    "func = Tanh\n",
    "\n",
    "x1 = -5\n",
    "x2 = -4\n",
    "\n",
    "temp = Secant_Method(func.f,x1,x2,0.0001,0)\n",
    "\n",
    "print( temp)"
   ]
  },
  {
   "cell_type": "markdown",
   "metadata": {},
   "source": [
    "3 c) Here the tricky part was, that both the value on this interval we checked was positive, I handled it with returning an error message."
   ]
  },
  {
   "cell_type": "code",
   "execution_count": 55,
   "metadata": {},
   "outputs": [
    {
     "name": "stdout",
     "output_type": "stream",
     "text": [
      "There is no solution for f(x) = 0 with bisection method.\n",
      "None\n"
     ]
    }
   ],
   "source": [
    "#Bisection Method\n",
    "func = Tanh\n",
    "\n",
    "x1 = 5\n",
    "x2 = 10\n",
    "\n",
    "temp = Bisection_Method(func.f,x1,x2,0.0001,0)\n",
    "\n",
    "print( temp)"
   ]
  },
  {
   "cell_type": "markdown",
   "metadata": {},
   "source": [
    "Exercise 4\n"
   ]
  },
  {
   "cell_type": "markdown",
   "metadata": {},
   "source": [
    "\"show that the Contraction Mapping Theorem is applicable on [1, 2]\"\n",
    "\n",
    "I did it in the following way:"
   ]
  },
  {
   "cell_type": "code",
   "execution_count": 57,
   "metadata": {},
   "outputs": [
    {
     "name": "stdout",
     "output_type": "stream",
     "text": [
      "g(1):\n",
      "1.5384615384615385\n",
      "g(2):\n",
      "1.1111111111111112\n"
     ]
    }
   ],
   "source": [
    "g = poly2\n",
    "# [a,b] = [1,2]\n",
    "\n",
    "#Is g(1) in this interval?\n",
    "print(\"g(1):\")\n",
    "print(g.g(1))\n",
    "\n",
    "#Is g(2) in this interval?\n",
    "print(\"g(2):\")\n",
    "print(g.g(2))\n",
    "\n",
    "# Both are in [1,2] so Contraction Mapping Theorem is applicable on [1, 2].\n",
    "\n",
    "# It is continuous on [1,2] as it is a 1/(poly) function it wont reach zero.\n",
    "\n",
    "# g is a continuous function and [1,2] is bounded and closed interval, so g has its maximum and minimum value on [1,2] at g(1) or at g(2), or at g(x)' = 0.\n",
    "\n",
    "#g(x)' = 0 -> will simple return -1 as its solution which is not in [1,2].\n",
    "\n",
    "# No solution for derivative on this interval (the solution is -1)\n",
    "\n",
    "# We already no, that than on this interval the amx and the min:\n",
    "# MAX; g(1) is bigger as 1.5385 > 1.1111\n",
    "# MIN; g(2)\n",
    "\n"
   ]
  },
  {
   "cell_type": "markdown",
   "metadata": {},
   "source": [
    "\"Implement the simple iteration\""
   ]
  },
  {
   "cell_type": "code",
   "execution_count": 18,
   "metadata": {},
   "outputs": [],
   "source": [
    "def Simple_iteration(x,func,precision,iter):\n",
    "    x_next = func(x)\n",
    "\n",
    "    if abs(func(x) - func(x_next)) > precision:\n",
    "        return Simple_iteration(x_next,func,precision,iter+1)\n",
    "    \n",
    "    return x_next, iter"
   ]
  },
  {
   "cell_type": "markdown",
   "metadata": {},
   "source": [
    "\"use the theoretical stopping criterion from class to\n",
    "estimate the solution to varios number of decimal places\"\n",
    "\n",
    "Theoritical stopping criterion function:"
   ]
  },
  {
   "cell_type": "code",
   "execution_count": 19,
   "metadata": {},
   "outputs": [],
   "source": [
    "import math\n",
    "\n",
    "#definition of Stopping Criterion:\n",
    "def Stopping_Criterion(x0,x1,precision,L):\n",
    "    \n",
    "    a = 0.5*(precision)\n",
    "\n",
    "    value = np.floor((math.log(abs(x0-x1)) - math.log(a*(1-L))) / log(1/L))\n",
    "    \n",
    "\n",
    "    return  value + 1\n",
    "\n"
   ]
  },
  {
   "cell_type": "code",
   "execution_count": 61,
   "metadata": {},
   "outputs": [
    {
     "name": "stdout",
     "output_type": "stream",
     "text": [
      "Lower bound for L:\n",
      "0.4273504273504274\n",
      "\n",
      "This is L:  \n",
      "0.47337278106508873\n",
      "\n",
      "This is Simple iteration result:  \n",
      "(1.3687548632064392, 11)\n"
     ]
    }
   ],
   "source": [
    "# for this, we have to calculate L in the following manner:\n",
    "\n",
    "print(\"Lower bound for L:\")\n",
    "print(abs(g.g(2)-g.g(1)) /abs(2-1))\n",
    "print(\"\")\n",
    "# From the defintion of contraction, we know L is bigger or equal than this and smaller than 1:\n",
    "# 0.4274 <= L < 1\n",
    "\n",
    "\n",
    "# for 'L':  L = |g(x)'|\n",
    "L = abs(g.g_d(1))\n",
    "\n",
    "sim_iter = Simple_iteration(L,g.g,0.0001, 0)\n",
    "print(\"This is L:  \")\n",
    "print(L)\n",
    "print(\"\")\n",
    "print(\"This is Simple iteration result:  \")\n",
    "print(sim_iter)\n",
    "\n",
    "\n"
   ]
  },
  {
   "cell_type": "code",
   "execution_count": 63,
   "metadata": {},
   "outputs": [
    {
     "data": {
      "text/latex": [
       "$\\displaystyle 14$"
      ],
      "text/plain": [
       "14"
      ]
     },
     "execution_count": 63,
     "metadata": {},
     "output_type": "execute_result"
    }
   ],
   "source": [
    "# This is what Stopping Criterion estimates, from which we can see that it is indeed pessimistic. In the following plot, we can see that it is pessimistic\n",
    "# for all the precision values we checked.\n",
    "Stopping_Criterion(1,g.g(1),0.0001,L)"
   ]
  },
  {
   "cell_type": "markdown",
   "metadata": {},
   "source": [
    "Pessimistic assumption of theoritical stopping criterion could shown on a plot:"
   ]
  },
  {
   "cell_type": "code",
   "execution_count": 64,
   "metadata": {},
   "outputs": [
    {
     "data": {
      "image/png": "[encoded data removed]",
      "text/plain": [
       "<Figure size 640x480 with 1 Axes>"
      ]
     },
     "metadata": {},
     "output_type": "display_data"
    }
   ],
   "source": [
    "import matplotlib.pyplot as plt\n",
    "\n",
    "list_temp = []\n",
    "list_temp_stop = []\n",
    "\n",
    "for i in range(0,16):\n",
    "    precision = 10**(-i)\n",
    "\n",
    "    temp = Simple_iteration(L,g.g,precision, 0)\n",
    "    list_temp.append(temp[1])\n",
    "\n",
    "\n",
    "    temp_stop = Stopping_Criterion(1,g.g(1),precision,L)\n",
    "    list_temp_stop.append(temp_stop)\n",
    "    \n",
    "    \n",
    "\n",
    "\n",
    "\n",
    "\n",
    "plt.scatter(np.arange(len(list_temp)),list_temp)\n",
    "plt.scatter(np.arange(len(list_temp_stop)),list_temp_stop)\n",
    "\n",
    "plt.ylabel ('Iteration Steps')\n",
    "plt.xlabel ('Precision to the power (10^-(x))')\n",
    "\n",
    "plt.show()\n",
    "\n",
    "\n",
    "\n",
    "\n"
   ]
  }
 ],
 "metadata": {
  "kernelspec": {
   "display_name": "Python 3",
   "language": "python",
   "name": "python3"
  },
  "language_info": {
   "codemirror_mode": {
    "name": "ipython",
    "version": 3
   },
   "file_extension": ".py",
   "mimetype": "text/x-python",
   "name": "python",
   "nbconvert_exporter": "python",
   "pygments_lexer": "ipython3",
   "version": "3.10.11"
  },
  "orig_nbformat": 4
 },
 "nbformat": 4,
 "nbformat_minor": 2
}
