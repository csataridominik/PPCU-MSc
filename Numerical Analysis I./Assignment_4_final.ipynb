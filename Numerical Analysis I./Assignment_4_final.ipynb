{
  "cells": [
    {
      "cell_type": "code",
      "execution_count": 1,
      "metadata": {
        "id": "BV8T0C5yIZNh"
      },
      "outputs": [],
      "source": [
        "import numpy as np\n",
        "from tabulate import tabulate\n",
        "import matplotlib.pyplot as plt"
      ]
    },
    {
      "cell_type": "markdown",
      "metadata": {
        "id": "VvUpFcZfIZNj"
      },
      "source": [
        "Exercise 1a)"
      ]
    },
    {
      "cell_type": "code",
      "execution_count": 2,
      "metadata": {
        "id": "Nrs8uSv_IZNl"
      },
      "outputs": [],
      "source": [
        "# For calulcating norm:\n",
        "def norm(vector):\n",
        "    result=0\n",
        "    for xi in vector:\n",
        "        result += xi**2\n",
        "\n",
        "    result = np.sqrt(result)\n",
        "    return result"
      ]
    },
    {
      "cell_type": "code",
      "execution_count": 3,
      "metadata": {
        "id": "Vfg37F--IZNm"
      },
      "outputs": [],
      "source": [
        "# A matrix formation from previous lab:\n",
        "def CreateMatrix(n):\n",
        "\n",
        "\n",
        "    x = np.linspace(0,1,n)\n",
        "\n",
        "    A = []\n",
        "    for i in range(len(x)):\n",
        "        if i == 0:\n",
        "            row = np.zeros(len(x))\n",
        "            row[0] = 2\n",
        "            row[1] = -1\n",
        "        elif i == len(x)-1:\n",
        "            row = np.zeros(len(x))\n",
        "            row[-1] = 2\n",
        "            row[-2] = -1\n",
        "        else:\n",
        "            row = np.zeros(len(x))\n",
        "            row[i-1] = -1\n",
        "            row[i] = 2\n",
        "            row[i+1] = -1\n",
        "\n",
        "        A.append(row)\n",
        "\n",
        "    #Only modification, that I convert lists to np.arrays()\n",
        "    A = np.asanyarray(A)\n",
        "    A = (n+1)**2*A\n",
        "    return A\n",
        "\n",
        "\n",
        "\n",
        "# n and A as given in the exercise:\n",
        "n=10\n",
        "A = CreateMatrix(n)\n",
        "\n",
        "\n",
        "\n"
      ]
    },
    {
      "cell_type": "code",
      "execution_count": 4,
      "metadata": {
        "colab": {
          "base_uri": "https://localhost:8080/",
          "height": 390
        },
        "id": "nIo-mvtSIZNm",
        "outputId": "331a0bfe-a6db-4065-fa50-eb23d2eadebf"
      },
      "outputs": [],
      "source": [
        "# For Exercise 1a) I have implemented 2 version of qr factorization.\n",
        "# qr1(), is an implementation based on the stopping criteria mentioned\n",
        "# in the lab notes. For that, the results werent close enough to the original,\n",
        "# so I have impleneted one, where the stopping is based on iteration.\n",
        "\n",
        "def qr1(A,mu,tolerance=0.00001):\n",
        "\n",
        "    # Generating current Qk and Rk as given in the lab4 notes:\n",
        "    Q,R = np.linalg.qr(np.subtract(A,mu*np.eye(A.shape[0])))\n",
        "\n",
        "    # Updating Ak:\n",
        "    Ak_1 = np.add(R @ Q, mu*np.eye(A.shape[0]))\n",
        "\n",
        "    # Gets all off diagonal(under the main diagonal) into diag\n",
        "    diag = np.diag(Ak_1,k=-1)\n",
        "\n",
        "    # if all of diag's elements are in a tolerance range of 0, we have a solution:\n",
        "    if abs(diag.all()) < tolerance:\n",
        "       return np.diag(Ak_1)\n",
        "\n",
        "    # else, we continue our iteration with updated mu, and A.\n",
        "    else:\n",
        "        return qr1(Ak_1,A.item(n-1, n-1),tolerance)\n",
        "\n",
        "def qr2(A,mu,iter=2000):\n",
        "    # If we have enough iterations, we return with our solution.\n",
        "    if iter ==0:\n",
        "        return np.diag(A)\n",
        "\n",
        "    # Generating current Qk and Rk as given in the lab4 notes:\n",
        "    Q,R = np.linalg.qr(np.subtract(A,mu*np.eye(A.shape[0])))\n",
        "\n",
        "\n",
        "    # Updating Ak:\n",
        "    Ak_1 = np.add(R @ Q, mu*np.eye(A.shape[0]))\n",
        "\n",
        "    # Gets all off diagonal(under the main diagonal) into diag\n",
        "    diag = np.diag(Ak_1,k=-1)\n",
        "\n",
        "    # if iter != 0, we iterate again.\n",
        "    return qr2(Ak_1,A.item(n-1, n-1),iter-1)\n",
        "\n",
        "# Calculated eigenvelues are stored in the following arrays(calculated with 2 methods):\n",
        "result_qr1 = qr1(A,A.item(n-1, n-1))\n",
        "result_qr2 = qr2(A,A.item(n-1, n-1))"
      ]
    },
    {
      "cell_type": "code",
      "execution_count": 5,
      "metadata": {
        "id": "dnNUXPlWIZNn"
      },
      "outputs": [
        {
          "data": {
            "image/png": "[encoded data removed]",
            "text/plain": [
              "<Figure size 640x480 with 1 Axes>"
            ]
          },
          "metadata": {},
          "output_type": "display_data"
        }
      ],
      "source": [
        "# Sort them in order:\n",
        "result_qr1 = np.sort(result_qr1)\n",
        "result_qr2 = np.sort(result_qr2)\n",
        "\n",
        "# Initialize list, where we are going to store the differences between\n",
        "# Original and calculated eigenvalues.\n",
        "diff_qr1 = []\n",
        "diff_qr2 = []\n",
        "\n",
        "for k in range(1,n+1):\n",
        "    # Original eigenvalues, given by formula in lab notes:\n",
        "    lambda_k = (4*(n+1)**2)*np.sin(k*np.pi/(2*(n+1)))**2\n",
        "\n",
        "    #Differences:\n",
        "    diff_qr1.append(abs(lambda_k-result_qr1[k-1]))\n",
        "    diff_qr2.append(abs(lambda_k-result_qr2[k-1]))\n",
        "    #print(f\"Error rate for {k}.eigenvalue: \")\n",
        "    #print(diff[-1])\n",
        "    #print(\"\")\n",
        "\n",
        "plt.plot(diff_qr1, color='red', label='With tolerance')\n",
        "plt.plot(diff_qr2, label='With iteration')\n",
        "\n",
        "plt.xlabel('Index')\n",
        "plt.ylabel('Difference of Original and Calculated Value')\n",
        "plt.legend()\n",
        "\n",
        "plt.show()"
      ]
    },
    {
      "cell_type": "markdown",
      "metadata": {
        "id": "N3LSt4iFIZNo"
      },
      "source": [
        "Exercise 1b)"
      ]
    },
    {
      "cell_type": "markdown",
      "metadata": {
        "id": "Y2nmVAPvIZNp"
      },
      "source": [
        "LU Decomposition for solving Ax =b"
      ]
    },
    {
      "cell_type": "code",
      "execution_count": 6,
      "metadata": {
        "id": "2G4XqtSHIZNp"
      },
      "outputs": [],
      "source": [
        "# This code part is from the following article:\n",
        "# https://johnfoster.pge.utexas.edu/numerical-methods-book/LinearAlgebra_LU.html\n",
        "# LU Calculation was implemented from here, the rest is written by me.\n",
        "def lu(A):\n",
        "\n",
        "    #Get the number of rows\n",
        "    size = A.shape[0]\n",
        "\n",
        "    U = A.copy()\n",
        "    L = np.eye(n, dtype=np.double)\n",
        "\n",
        "    #Loop over rows\n",
        "    for i in range(size):\n",
        "\n",
        "        #Eliminate entries below i with row operations\n",
        "        #on U and reverse the row operations to\n",
        "        #manipulate L\n",
        "        factor = U[i+1:, i] / U[i, i]\n",
        "        L[i+1:, i] = factor\n",
        "        U[i+1:] -= factor[:, np.newaxis] * U[i]\n",
        "\n",
        "    return L, U\n",
        "\n",
        "def forward_substitution(L, b):\n",
        "\n",
        "    #Get number of rows\n",
        "    n = L.shape[0]\n",
        "\n",
        "    #Allocating space for the solution vector\n",
        "    y = np.zeros_like(b, dtype=np.double);\n",
        "\n",
        "    #Here we perform the forward-substitution.\n",
        "    #Initializing  with the first row.\n",
        "    y[0] = b[0] / L[0, 0]\n",
        "\n",
        "    #Looping over rows in reverse (from the bottom  up),\n",
        "    #starting with the second to last row, because  the\n",
        "    #last row solve was completed in the last step.\n",
        "    for i in range(1, n):\n",
        "        y[i] = (b[i] - np.dot(L[i,:i], y[:i])) / L[i,i]\n",
        "\n",
        "    return y\n",
        "\n",
        "def back_substitution(U, y):\n",
        "\n",
        "    #Number of rows\n",
        "    n = U.shape[0]\n",
        "\n",
        "    #Allocating space for the solution vector\n",
        "    x = np.zeros_like(y, dtype=np.double);\n",
        "\n",
        "    #Here we perform the back-substitution.\n",
        "    #Initializing with the last row.\n",
        "    x[-1] = y[-1] / U[-1, -1]\n",
        "\n",
        "    #Looping over rows in reverse (from the bottom up),\n",
        "    #starting with the second to last row, because the\n",
        "    #last row solve was completed in the last step.\n",
        "    for i in range(n-2, -1, -1):\n",
        "        x[i] = (y[i] - np.dot(U[i,i:], x[i:])) / U[i,i]\n",
        "\n",
        "    return x\n",
        "\n",
        "def lu_solve(A, b):\n",
        "\n",
        "    L, U = lu(A)\n",
        "\n",
        "    y = forward_substitution(L, b)\n",
        "\n",
        "    return back_substitution(U, y)"
      ]
    },
    {
      "cell_type": "code",
      "execution_count": 7,
      "metadata": {
        "id": "UuQA5pQ2IZNq"
      },
      "outputs": [],
      "source": [
        "# This is the update process written in lab4 notes:\n",
        "def Solve(A, theta,v):\n",
        "    I = np.identity(A.shape[0])\n",
        "\n",
        "    w = lu_solve(A-theta*I, v)\n",
        "    return w\n",
        "\n",
        "def update(w):\n",
        "    return w/norm(w)"
      ]
    },
    {
      "cell_type": "code",
      "execution_count": 8,
      "metadata": {
        "id": "jkL7QcG9IZNr"
      },
      "outputs": [
        {
          "name": "stdout",
          "output_type": "stream",
          "text": [
            "[0.12013117 0.23053002 0.3222527  0.38786839 0.42206128 0.42206128\n",
            " 0.38786839 0.3222527  0.23053002 0.12013117]\n"
          ]
        }
      ],
      "source": [
        "# This is where I call the Solve() function, to Solve 1b)\n",
        "iteration = 1000\n",
        "theta = result_qr2[0]\n",
        "v0 = np.array([1,1,1,1,1,1,1,1,1,1])\n",
        "v = v0/norm(v0)\n",
        "\n",
        "for i in range(iteration):\n",
        "    wk = Solve(A,theta,v)\n",
        "    v = update(wk)\n",
        "\n",
        "print(v)\n"
      ]
    },
    {
      "cell_type": "code",
      "execution_count": 9,
      "metadata": {
        "id": "dUnQXINKIZNs"
      },
      "outputs": [
        {
          "name": "stdout",
          "output_type": "stream",
          "text": [
            "This is the calculated result:\n",
            "[0.12013117 0.23053002 0.3222527  0.38786839 0.42206128 0.42206128\n",
            " 0.38786839 0.3222527  0.23053002 0.12013117]\n",
            "\n",
            "This is the result from the fomrula:\n",
            "[0.12013117 0.23053002 0.3222527  0.38786839 0.42206128 0.42206128\n",
            " 0.38786839 0.3222527  0.23053002 0.12013117]\n"
          ]
        }
      ],
      "source": [
        "original = []\n",
        "\n",
        "for i in range(1,n+1):\n",
        "    original.append(np.sin((np.pi*i)/(n+1)))\n",
        "\n",
        "# Normalising the formula's results:\n",
        "original_norm = original/norm(original)\n",
        "\n",
        "\n",
        "print(\"This is the calculated result:\")\n",
        "print(v)\n",
        "print(\"\")\n",
        "print(\"This is the result from the fomrula:\")\n",
        "print(original_norm)"
      ]
    },
    {
      "cell_type": "markdown",
      "metadata": {
        "id": "5L1n4cXzIZNs"
      },
      "source": [
        "The method converges quickly, there is no real difference between original and calculated eigenvector, given that we have chosen a pretty bad first estimate, for the eigenvector(all 1's normed)."
      ]
    },
    {
      "cell_type": "markdown",
      "metadata": {
        "id": "hxq18bU4Ia2y"
      },
      "source": [
        "$$\n",
        "\\lim_{{n \\to \\infty}}\\lambda_k = \\lim_{{n \\to \\infty}} {4(n + 1)^2 \\sin^2\\left(\\frac{k\\pi}{2(n + 1)}\\right)} =\\lim_{{n \\to \\infty}} \\frac{\\sin^2\\left(\\frac{k\\pi}{2(n + 1)}\\right)}{\\frac{1}{4(n + 1)^2 }} = \\lim_{{n \\to \\infty}} k^2\\pi^2\\frac{\\sin\\left(\\frac{k\\pi}{2(n + 1)}\\right)}{\\frac{k\\pi}{2(n+1)}}\\frac{\\sin\\left(\\frac{k\\pi}{2(n + 1)}\\right)}{\\frac{k\\pi}{2(n+1)}} =k^2\\pi^2  \\lim_{{n \\to \\infty}} \\frac{\\sin\\left(\\frac{k\\pi}{2(n + 1)}\\right)}{\\frac{k\\pi}{2(n+1)}}\\frac{\\sin\\left(\\frac{k\\pi}{2(n + 1)}\\right)}{\\frac{k\\pi}{2(n+1)}} $$\n"
      ]
    },
    {
      "cell_type": "markdown",
      "metadata": {},
      "source": [
        "From a formual we know that:"
      ]
    },
    {
      "cell_type": "markdown",
      "metadata": {
        "id": "UmJUjBF6RKZd"
      },
      "source": [
        "$$\\lim_{{x \\to \\infty}} \\frac{\\sin(x)}{x} = 0\n",
        "$$"
      ]
    },
    {
      "cell_type": "markdown",
      "metadata": {},
      "source": [
        "$$\\lim_{{x \\to 0}} \\frac{\\sin(x)}{x} = 1$$\n"
      ]
    },
    {
      "cell_type": "markdown",
      "metadata": {},
      "source": [
        "As our 'x' is in the denominator  our limit is one for,\n"
      ]
    },
    {
      "cell_type": "markdown",
      "metadata": {},
      "source": [
        "$$\\lim_{{n \\to \\infty}} \\frac{\\sin\\left(\\frac{k\\pi}{2(n + 1)}\\right)}{\\frac{k\\pi}{2(n+1)}} = 1$$"
      ]
    },
    {
      "cell_type": "markdown",
      "metadata": {
        "id": "vN_yw8OEUDfo"
      },
      "source": [
        "This gives us:\n",
        "$$k^2\\pi^2  \\lim_{{n \\to \\infty}} \\frac{\\sin\\left(\\frac{k\\pi}{2(n + 1)}\\right)}{\\frac{k\\pi}{2(n+1)}}\\frac{\\sin\\left(\\frac{k\\pi}{2(n + 1)}\\right)}{\\frac{k\\pi}{2(n+1)}}=k^2\\cdot\\pi^2\\cdot1\\cdot1 = k^2\\cdot\\pi^2$$"
      ]
    }
  ],
  "metadata": {
    "colab": {
      "provenance": []
    },
    "kernelspec": {
      "display_name": "Python 3",
      "language": "python",
      "name": "python3"
    },
    "language_info": {
      "codemirror_mode": {
        "name": "ipython",
        "version": 3
      },
      "file_extension": ".py",
      "mimetype": "text/x-python",
      "name": "python",
      "nbconvert_exporter": "python",
      "pygments_lexer": "ipython3",
      "version": "3.10.11"
    }
  },
  "nbformat": 4,
  "nbformat_minor": 0
}
