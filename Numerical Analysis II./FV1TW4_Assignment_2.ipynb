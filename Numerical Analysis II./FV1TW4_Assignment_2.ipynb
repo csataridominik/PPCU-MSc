{
 "cells": [
  {
   "cell_type": "code",
   "execution_count": 1,
   "metadata": {},
   "outputs": [],
   "source": [
    "# Imports:\n",
    "import numpy as np\n",
    "from tabulate import tabulate\n",
    "import matplotlib.pyplot as plt"
   ]
  },
  {
   "cell_type": "markdown",
   "metadata": {},
   "source": [
    "Code for error estimation from Appendix:"
   ]
  },
  {
   "cell_type": "code",
   "execution_count": 2,
   "metadata": {},
   "outputs": [],
   "source": [
    "# This part is for the error norm between ground truth and\n",
    "# calcualted result. The function was given in the \n",
    "# lab paper in matlab, translated with ChatGPT.\n",
    "def Errornorm(u_e, u_h):\n",
    "    n = len(u_h)\n",
    "    h = 1.0 / (n - 1) \n",
    "    \n",
    "    t = np.array([(1 - np.sqrt(3 / 5)) / 2, 1 / 2, (1 + np.sqrt(3 / 5)) / 2])\n",
    "    w = np.array([5 / 18, 8 / 18, 5 / 18])\n",
    "    e2 = 0\n",
    "\n",
    "    for i in range(n - 1):  \n",
    "        v_e = u_e((i) * h + h * t)  \n",
    "        v_h = (1 - t) * u_h[i] + t * u_h[i + 1] \n",
    "        e2 += np.sum((v_e - v_h) ** 2 * w)\n",
    "\n",
    "    e = np.sqrt(h * np.abs(e2))\n",
    "    return e\n"
   ]
  },
  {
   "cell_type": "code",
   "execution_count": 3,
   "metadata": {},
   "outputs": [],
   "source": [
    "# Test function for c for exercise 1\n",
    "def Test_c(x):\n",
    "    return 1"
   ]
  },
  {
   "cell_type": "code",
   "execution_count": 4,
   "metadata": {},
   "outputs": [],
   "source": [
    "# Ground truth for u(x):\n",
    "def u(x):\n",
    "    return -x**3+3*x"
   ]
  },
  {
   "cell_type": "markdown",
   "metadata": {},
   "source": [
    "Exercise 1"
   ]
  },
  {
   "cell_type": "code",
   "execution_count": 5,
   "metadata": {},
   "outputs": [],
   "source": [
    "# Exercise 1/a)\n",
    "def StiffnessMatrix(N,c):\n",
    "    A_matrix = np.zeros((N+1, N+1))\n",
    "    h = 1/N\n",
    "    xi = 0\n",
    "    xi_next = h\n",
    "\n",
    "    A_matrix[0][0] = (c(xi) + c(xi_next))/(2*h)\n",
    "    A_matrix[0][1] = -(c(xi) + c(xi_next))/(2*h) \n",
    "    \n",
    "    for i in range(1,N):\n",
    "        xi_prev = xi\n",
    "        xi = xi_next\n",
    "        xi_next += h\n",
    "        \n",
    "        A_matrix[i][i-1] = -(c(xi_prev) + c(xi))/(2*h)\n",
    "        A_matrix[i][i] = (c(xi_prev) + 2*c(xi)+ c(xi_next))/(2*h)\n",
    "        A_matrix[i][i+1] = -(c(xi) + c(xi_next))/(2*h)\n",
    "\n",
    "    A_matrix[-1][-2] = -(c(1-h) + c(h))/(2*h)\n",
    "    A_matrix[-1][-1] = (c(1-h) + c(h))/(2*h)\n",
    "    \n",
    "    return A_matrix\n"
   ]
  },
  {
   "cell_type": "code",
   "execution_count": 6,
   "metadata": {},
   "outputs": [
    {
     "name": "stdout",
     "output_type": "stream",
     "text": [
      "+----+----+----+----+\n",
      "|  3 | -3 |  0 |  0 |\n",
      "+----+----+----+----+\n",
      "| -3 |  6 | -3 |  0 |\n",
      "+----+----+----+----+\n",
      "|  0 | -3 |  6 | -3 |\n",
      "+----+----+----+----+\n",
      "|  0 |  0 | -3 |  3 |\n",
      "+----+----+----+----+\n"
     ]
    }
   ],
   "source": [
    "# Results of exercise 1/a) for n=4\n",
    "# The results seem ok for integral of a constant c.\n",
    "n = 4\n",
    "N = n-1\n",
    "\n",
    "A = StiffnessMatrix(N,Test_c)\n",
    "print(tabulate(A, tablefmt=\"grid\"))"
   ]
  },
  {
   "cell_type": "markdown",
   "metadata": {},
   "source": [
    "Exercise 1/b)"
   ]
  },
  {
   "cell_type": "code",
   "execution_count": 7,
   "metadata": {},
   "outputs": [],
   "source": [
    "# 'f' right handside function.\n",
    "def f(x):\n",
    "    return 6*x"
   ]
  },
  {
   "cell_type": "code",
   "execution_count": 8,
   "metadata": {},
   "outputs": [],
   "source": [
    "# Exercise 1/b) qb preset for 0.\n",
    "def LoadVector(N, f,qb=0):\n",
    "    b_vector = np.zeros(N+1)\n",
    "    h = 1/N\n",
    "    xi = 0\n",
    "    \n",
    "    b_vector[0] = h/2*f(xi)\n",
    "\n",
    "    for i in range(1,N):\n",
    "        xi += h\n",
    "        b_vector[i] = h*f(xi)\n",
    "\n",
    "    b_vector[-1] = h/2*f(xi+h) + qb\n",
    "\n",
    "    return b_vector\n"
   ]
  },
  {
   "cell_type": "code",
   "execution_count": 9,
   "metadata": {},
   "outputs": [],
   "source": [
    "# Load vector result stored in 'b' for n = 4\n",
    "n = 4\n",
    "N = n-1\n",
    "b = LoadVector(N,f)\n"
   ]
  },
  {
   "cell_type": "markdown",
   "metadata": {},
   "source": [
    "Exercise 1/c)"
   ]
  },
  {
   "cell_type": "code",
   "execution_count": 10,
   "metadata": {},
   "outputs": [],
   "source": [
    "# Boundary conditions for Dirichlet and Neumann with error handle.\n",
    "def ApplyBCs(A, b, l_t, l_v, r_t, r_v):\n",
    "    A_return = A\n",
    "    b_return = b\n",
    "    n = np.size(b)\n",
    "    \n",
    "\n",
    "    if l_t == 'Dirichlet':\n",
    "        A_return[0][0] = 1\n",
    "        A_return[0][1] = 0\n",
    "        b_return[0] = l_v\n",
    "\n",
    "    elif l_t == 'Neumann':\n",
    "        b_return[0] += l_v\n",
    "        \n",
    "    else:\n",
    "        raise ValueError(\"Not valid input for l_t.\")\n",
    "\n",
    "    if r_t == 'Dirichlet':\n",
    "        A_return[-1][-1] = 1\n",
    "        A_return[-1][-2] = 0\n",
    "        b_return[-1] = r_v\n",
    "        \n",
    "    elif r_t == 'Neumann':\n",
    "        b_return[-1] += r_v\n",
    "        \n",
    "        \n",
    "    else:\n",
    "        raise ValueError(\"Not valid input for r_t.\")\n",
    "\n",
    "    return A_return, b_return\n",
    "    \n"
   ]
  },
  {
   "cell_type": "code",
   "execution_count": 11,
   "metadata": {},
   "outputs": [],
   "source": [
    "l_t = 'Dirichlet'\n",
    "l_v = 0\n",
    "r_t = 'Neumann'\n",
    "r_v = 0\n",
    "\n",
    "A_modified,b_modified = ApplyBCs(A, b, l_t, l_v, r_t, r_v)"
   ]
  },
  {
   "cell_type": "code",
   "execution_count": 12,
   "metadata": {},
   "outputs": [
    {
     "name": "stdout",
     "output_type": "stream",
     "text": [
      "Errornorm:\n",
      "0.03595645896101417\n"
     ]
    }
   ],
   "source": [
    "# Error of Exercise 1 for n = 4\n",
    "c = np.linalg.solve(A, b)\n",
    "print('Errornorm:')\n",
    "print(Errornorm(u,c))\n"
   ]
  },
  {
   "cell_type": "markdown",
   "metadata": {},
   "source": [
    "Exercise 1/d)"
   ]
  },
  {
   "cell_type": "code",
   "execution_count": 13,
   "metadata": {},
   "outputs": [],
   "source": [
    "# This function is for plotting both the ground truth\n",
    "# and the calculated results.\n",
    "def compare(a,b,n,gt,func):\n",
    "    # This part is for the ground truth:\n",
    "    x = np.linspace(a,b,n)\n",
    "    y = [gt(a) for a in x]\n",
    "    \n",
    "    \n",
    "    plt.plot(x, y, label='Ground Truth')\n",
    "    plt.plot(x, func, label='Calculated')\n",
    "    \n",
    "    plt.legend()\n",
    "\n",
    "    plt.show()\n",
    "    "
   ]
  },
  {
   "cell_type": "code",
   "execution_count": 14,
   "metadata": {},
   "outputs": [
    {
     "name": "stdout",
     "output_type": "stream",
     "text": [
      "Errornorm:\n",
      "0.001406783487435118\n"
     ]
    },
    {
     "data": {
      "image/png": "[encoded data removed]",
      "text/plain": [
       "<Figure size 640x480 with 1 Axes>"
      ]
     },
     "metadata": {},
     "output_type": "display_data"
    }
   ],
   "source": [
    "# Here are the results of Exercise 1/d)\n",
    "n = 16\n",
    "N = n-1\n",
    "\n",
    "A = StiffnessMatrix(N,Test_c)\n",
    "b = LoadVector(N,f)\n",
    "\n",
    "l_t = 'Dirichlet'\n",
    "l_v = 0\n",
    "r_t = 'Neumann'\n",
    "r_v = 0\n",
    "\n",
    "A_modified,b_modified = ApplyBCs(A, b, l_t, l_v, r_t, r_v)\n",
    "\n",
    "# Estimated error:\n",
    "c = np.linalg.solve(A_modified, b_modified)\n",
    "print('Errornorm:')\n",
    "print(Errornorm(u,c))\n",
    "\n",
    "# Calling a function plotting both the exact solution and the calculated one:\n",
    "compare(0,1,n,u,c)\n",
    "\n"
   ]
  },
  {
   "cell_type": "markdown",
   "metadata": {},
   "source": [
    "Exercise 1/e)"
   ]
  },
  {
   "cell_type": "code",
   "execution_count": 15,
   "metadata": {},
   "outputs": [],
   "source": [
    "# Here I calculate the error between ground truth and\n",
    "# calculated u_2h for the corresponding N. Than I calculate\n",
    "# 2*N for the current N and the result u_h. I check between\n",
    "# these for the error, that is why from the result Table 1\n",
    "# I am missing the n/a. Error rate converges to 2.\n",
    "\n",
    "N = [4,8,16,32,64]\n",
    "\n",
    "l_t = 'Dirichlet'\n",
    "l_v = 0\n",
    "r_t = 'Neumann'\n",
    "r_v = 0\n",
    "\n",
    "rates = np.zeros(len(N))\n",
    "errors = np.zeros(len(N))\n",
    "\n",
    "for i in range(0,len(N)):\n",
    "    A = StiffnessMatrix(N[i],Test_c)\n",
    "    b = LoadVector(N[i],f)\n",
    "    A_modified,b_modified = ApplyBCs(A, b, l_t, l_v, r_t, r_v)\n",
    "    u_2h = np.linalg.solve(A_modified, b_modified)\n",
    "\n",
    "    A_next = StiffnessMatrix(2*N[i],Test_c)\n",
    "    b_next = LoadVector(2*N[i],f)\n",
    "    A_modified_next,b_modified_next = ApplyBCs(A_next, b_next, l_t, l_v, r_t, r_v)\n",
    "    u_h = np.linalg.solve(A_modified_next, b_modified_next)\n",
    "\n",
    "    dif_h  = Errornorm(u,u_h) \n",
    "    dif_2h = Errornorm(u,u_2h)\n",
    "    \n",
    "    r = np.log2(dif_2h/dif_h)\n",
    "\n",
    "    errors[i] = dif_h\n",
    "    rates[i] = r\n"
   ]
  },
  {
   "cell_type": "markdown",
   "metadata": {},
   "source": [
    "Exercise 1/e)"
   ]
  },
  {
   "cell_type": "code",
   "execution_count": 16,
   "metadata": {},
   "outputs": [
    {
     "name": "stdout",
     "output_type": "stream",
     "text": [
      "+--------+------------+------------+------------+------------+-------------+\n",
      "| n-1    |          4 |          8 |         16 |         32 |          64 |\n",
      "+========+============+============+============+============+=============+\n",
      "| errors | 0.00495744 | 0.00123629 | 0.00030888 | 7.7208e-05 | 1.93013e-05 |\n",
      "+--------+------------+------------+------------+------------+-------------+\n",
      "| rates  | 2.01414    | 2.00358    | 2.0009     | 2.00022    | 2.00006     |\n",
      "+--------+------------+------------+------------+------------+-------------+\n"
     ]
    }
   ],
   "source": [
    "# We can see in this table that indeed we get the second order\n",
    "print(tabulate([['errors', errors[0], errors[1],errors[2],errors[3],errors[4]], ['rates', rates[0], rates[1],rates[2],rates[3],rates[4]]], headers= ['n-1',N[0], N[1],N[2],N[3],N[4]],tablefmt=\"grid\"))"
   ]
  },
  {
   "cell_type": "markdown",
   "metadata": {},
   "source": [
    "Exercise 2)"
   ]
  },
  {
   "cell_type": "code",
   "execution_count": 17,
   "metadata": {},
   "outputs": [],
   "source": [
    "# u(x) for Exercise 2\n",
    "def u2(x):\n",
    "    return 2*x - x**2 + np.log(1+x)- np.log(2)"
   ]
  },
  {
   "cell_type": "code",
   "execution_count": 18,
   "metadata": {},
   "outputs": [],
   "source": [
    "# Right handside for Exercise 2.\n",
    "def g(x):\n",
    "    return 4*x "
   ]
  },
  {
   "cell_type": "code",
   "execution_count": 19,
   "metadata": {},
   "outputs": [],
   "source": [
    "# c for exercise 2.\n",
    "def c2(x):\n",
    "    return 1+x"
   ]
  },
  {
   "cell_type": "code",
   "execution_count": 20,
   "metadata": {},
   "outputs": [
    {
     "name": "stdout",
     "output_type": "stream",
     "text": [
      "Errornorm:\n",
      "0.0016847389577304022\n"
     ]
    },
    {
     "data": {
      "image/png": "[encoded data removed]",
      "text/plain": [
       "<Figure size 640x480 with 1 Axes>"
      ]
     },
     "metadata": {},
     "output_type": "display_data"
    }
   ],
   "source": [
    "# Results for Exercise 2 for n = 16\n",
    "n = 16\n",
    "N = n-1\n",
    "\n",
    "A = StiffnessMatrix(N,c2)\n",
    "b = LoadVector(N,g,3)\n",
    "\n",
    "l_t = 'Neumann'\n",
    "l_v = -3\n",
    "r_t = 'Dirichlet'\n",
    "r_v = 1\n",
    "\n",
    "A_modified, b_modified = ApplyBCs(A, b, l_t, l_v, r_t, r_v)\n",
    "\n",
    "cc = np.linalg.solve(A_modified, b_modified)\n",
    "print('Errornorm:')\n",
    "print(Errornorm(u2,cc))\n",
    "compare(0,1,n,u2,cc)\n"
   ]
  },
  {
   "cell_type": "markdown",
   "metadata": {},
   "source": [
    "Table simular to Table 1:"
   ]
  },
  {
   "cell_type": "code",
   "execution_count": 21,
   "metadata": {},
   "outputs": [
    {
     "name": "stdout",
     "output_type": "stream",
     "text": [
      "+--------+------------+------------+-------------+-------------+-------------+\n",
      "| n-1    |          4 |          8 |          16 |          32 |          64 |\n",
      "+========+============+============+=============+=============+=============+\n",
      "| errors | 0.00592343 | 0.00148072 | 0.000370172 | 9.25424e-05 | 2.31356e-05 |\n",
      "+--------+------------+------------+-------------+-------------+-------------+\n",
      "| rates  | 2.00056    | 2.00013    | 2.00003     | 2.00001     | 2           |\n",
      "+--------+------------+------------+-------------+-------------+-------------+\n"
     ]
    }
   ],
   "source": [
    "N = [4,8,16,32,64]\n",
    "\n",
    "\n",
    "rates = np.zeros(len(N))\n",
    "errors = np.zeros(len(N))\n",
    "\n",
    "for i in range(0,len(N)):\n",
    "    A = StiffnessMatrix(N[i],c2)\n",
    "    b = LoadVector(N[i],g,3)\n",
    "    A_modified,b_modified = ApplyBCs(A, b, l_t, l_v, r_t, r_v)\n",
    "    u_2h = np.linalg.solve(A_modified, b_modified)\n",
    "\n",
    "    A_next = StiffnessMatrix(2*N[i],c2)\n",
    "    b_next = LoadVector(2*N[i],g,3)\n",
    "    A_modified_next,b_modified_next = ApplyBCs(A_next, b_next, l_t, l_v, r_t, r_v)\n",
    "    u_h = np.linalg.solve(A_modified_next, b_modified_next)\n",
    "\n",
    "    dif_2h  = Errornorm(u2,u_2h) \n",
    "    \n",
    "    dif_h = Errornorm(u2,u_h)\n",
    "    \n",
    "    r = np.log2(dif_2h/dif_h)\n",
    "\n",
    "    errors[i] = dif_h\n",
    "    rates[i] = r\n",
    "\n",
    "print(tabulate([['errors', errors[0], errors[1],errors[2],errors[3],errors[4]], ['rates', rates[0], rates[1],rates[2],rates[3],rates[4]]], headers= ['n-1',N[0], N[1],N[2],N[3],N[4]],tablefmt=\"grid\"))"
   ]
  }
 ],
 "metadata": {
  "kernelspec": {
   "display_name": "Python 3",
   "language": "python",
   "name": "python3"
  },
  "language_info": {
   "codemirror_mode": {
    "name": "ipython",
    "version": 3
   },
   "file_extension": ".py",
   "mimetype": "text/x-python",
   "name": "python",
   "nbconvert_exporter": "python",
   "pygments_lexer": "ipython3",
   "version": "3.10.11"
  }
 },
 "nbformat": 4,
 "nbformat_minor": 2
}
